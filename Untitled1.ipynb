{
  "nbformat": 4,
  "nbformat_minor": 0,
  "metadata": {
    "colab": {
      "name": "Untitled1.ipynb",
      "provenance": [],
      "collapsed_sections": [],
      "authorship_tag": "ABX9TyNfCuFnIENS/okKYXP2enZ6",
      "include_colab_link": true
    },
    "kernelspec": {
      "name": "python3",
      "display_name": "Python 3"
    }
  },
  "cells": [
    {
      "cell_type": "markdown",
      "metadata": {
        "id": "view-in-github",
        "colab_type": "text"
      },
      "source": [
        "<a href=\"https://colab.research.google.com/github/palashpaunikar/Hello-World/blob/master/Untitled1.ipynb\" target=\"_parent\"><img src=\"https://colab.research.google.com/assets/colab-badge.svg\" alt=\"Open In Colab\"/></a>"
      ]
    },
    {
      "cell_type": "code",
      "metadata": {
        "colab": {
          "base_uri": "https://localhost:8080/"
        },
        "id": "X7Fna-119-mJ",
        "outputId": "f4d93250-2355-49e4-c9b3-6be3ec27f368"
      },
      "source": [
        "# Write a Python program to read file line by line and store it into a list\r\n",
        "file1 = open(\"myfile.txt\",\"w\") \r\n",
        "L = [\"This is Delhi \\n\",\"This is Paris \\n\",\"This is London \\n\"]  \r\n",
        "  \r\n",
        "\r\n",
        "file1.write(\"Hello \\n\") \r\n",
        "file1.writelines(L) \r\n",
        "file1.close() \r\n",
        "def file_read(myfile):\r\n",
        "  with open(myfile) as f:\r\n",
        "    content_list = f.readlines()\r\n",
        "    print(content_list)\r\n",
        "file_read(\"myfile.txt\")\r\n",
        "\r\n"
      ],
      "execution_count": 118,
      "outputs": [
        {
          "output_type": "stream",
          "text": [
            "['Hello \\n', 'This is Delhi \\n', 'This is Paris \\n', 'This is London \\n']\n"
          ],
          "name": "stdout"
        }
      ]
    },
    {
      "cell_type": "code",
      "metadata": {
        "colab": {
          "base_uri": "https://localhost:8080/"
        },
        "id": "eBg_fZFyZPGj",
        "outputId": "a56c7547-f3c3-4c97-82e4-24615da01638"
      },
      "source": [
        "#Write as python program to calculate the number of days between two datas. \r\n",
        "from datetime import date, timedelta as td\r\n",
        "d1 = date(2016,2,4)\r\n",
        "d2 = date(2016,2,6)\r\n",
        "\r\n",
        "delta = d2 - d1\r\n",
        "\r\n",
        "for i in range(delta.days + 1):\r\n",
        "    print(d1 + td(days=i))\r\n"
      ],
      "execution_count": 144,
      "outputs": [
        {
          "output_type": "stream",
          "text": [
            "2016-02-04\n",
            "2016-02-05\n",
            "2016-02-06\n"
          ],
          "name": "stdout"
        }
      ]
    },
    {
      "cell_type": "code",
      "metadata": {
        "colab": {
          "base_uri": "https://localhost:8080/"
        },
        "id": "M732CejubyZL",
        "outputId": "e934ea4c-4bcb-46af-8c15-6d88df623f45"
      },
      "source": [
        "# Write a python program to convert the Python dictionary object to Json data \r\n",
        "import json\r\n",
        "j_str = {'5': 6, '7' : 8 , '1' : 3, '6': 4}\r\n",
        "print(\"orignal string:\")\r\n",
        "print(j_str)\r\n",
        "print(\"\\njson date:\")\r\n",
        "print(json.dumps(j_str,sort_keys=True, indent=4))"
      ],
      "execution_count": 131,
      "outputs": [
        {
          "output_type": "stream",
          "text": [
            "orignal string:\n",
            "{'5': 6, '7': 8, '1': 3, '6': 4}\n",
            "\n",
            "json date:\n",
            "{\n",
            "    \"1\": 3,\n",
            "    \"5\": 6,\n",
            "    \"6\": 4,\n",
            "    \"7\": 8\n",
            "}\n"
          ],
          "name": "stdout"
        }
      ]
    },
    {
      "cell_type": "code",
      "metadata": {
        "colab": {
          "base_uri": "https://localhost:8080/"
        },
        "id": "cBkUkXNHkbcc",
        "outputId": "d6bb1e4f-174a-444a-85d5-be9513ec0579"
      },
      "source": [
        "#Write a python program to sort a list of dictionaries using Lambda Orignal list of dictionaries\r\n",
        "\r\n",
        "models = [{'make':'Nokia', 'model':216, 'color':'Black'}, {'make':'Mi Max', 'model':'2', 'color':'Gold'}, {'make':'Samsung', 'model': 7, 'color':'Blue'}]\r\n",
        "print(\"Original list of dictionaries :\")\r\n",
        "print(models)\r\n",
        "sorted_models = sorted(models, key = lambda x: x['color'])\r\n",
        "print(\"\\nSorting the List of dictionaries :\")\r\n",
        "print(sorted_models)\r\n",
        "\r\n"
      ],
      "execution_count": 132,
      "outputs": [
        {
          "output_type": "stream",
          "text": [
            "Original list of dictionaries :\n",
            "[{'make': 'Nokia', 'model': 216, 'color': 'Black'}, {'make': 'Mi Max', 'model': '2', 'color': 'Gold'}, {'make': 'Samsung', 'model': 7, 'color': 'Blue'}]\n",
            "\n",
            "Sorting the List of dictionaries :\n",
            "[{'make': 'Nokia', 'model': 216, 'color': 'Black'}, {'make': 'Samsung', 'model': 7, 'color': 'Blue'}, {'make': 'Mi Max', 'model': '2', 'color': 'Gold'}]\n"
          ],
          "name": "stdout"
        }
      ]
    },
    {
      "cell_type": "code",
      "metadata": {
        "colab": {
          "base_uri": "https://localhost:8080/"
        },
        "id": "zK9fLb-267QT",
        "outputId": "eea09bfa-b082-4613-a6af-4f5af59981c1"
      },
      "source": [
        "#Write a python program that takes a text file as input and return the numbers the number of words of a given text file.\r\n",
        "def count_words(myfile):\r\n",
        "   with open(myfile) as f:\r\n",
        "       data = f.read()\r\n",
        "       data.replace(\",\", \" \")\r\n",
        "       return len(data.split(\" \"))\r\n",
        "print(count_words(\"myfile.txt\"))\r\n"
      ],
      "execution_count": 133,
      "outputs": [
        {
          "output_type": "stream",
          "text": [
            "11\n"
          ],
          "name": "stdout"
        }
      ]
    },
    {
      "cell_type": "code",
      "metadata": {
        "colab": {
          "base_uri": "https://localhost:8080/"
        },
        "id": "-kN2QSdiBhW6",
        "outputId": "8b8375f7-87b2-431b-abd1-375f70c5c6e4"
      },
      "source": [
        "#Write a python program to convert an array to an array of machine value and retrun the bytes representation.\r\n",
        "import array\r\n",
        "import binascii\r\n",
        "a = array.array('i', [1,2,3,4,5,6])\r\n",
        "print(\"Original array:\")\r\n",
        "print('A1:', a)\r\n",
        "bytes_array = a.tobytes()\r\n",
        "print('Array of bytes:', binascii.hexlify(bytes_array))"
      ],
      "execution_count": 134,
      "outputs": [
        {
          "output_type": "stream",
          "text": [
            "Original array:\n",
            "A1: array('i', [1, 2, 3, 4, 5, 6])\n",
            "Array of bytes: b'010000000200000003000000040000000500000006000000'\n"
          ],
          "name": "stdout"
        }
      ]
    },
    {
      "cell_type": "code",
      "metadata": {
        "id": "QOwYAkP9CtAZ"
      },
      "source": [
        "# Write a script which can read the files line by linewith .log ext and print it into a file , while printing the date suffix with present date and time of the system."
      ],
      "execution_count": null,
      "outputs": []
    }
  ]
}